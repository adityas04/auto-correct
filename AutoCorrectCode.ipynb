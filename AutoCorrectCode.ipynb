{
  "cells": [
    {
      "cell_type": "code",
      "execution_count": null,
      "metadata": {
        "id": "gZT4CC7LtnjY"
      },
      "outputs": [],
      "source": [
        "from collections import defaultdict\n",
        "\n",
        "positiveValues=defaultdict(int)"
      ]
    },
    {
      "cell_type": "code",
      "execution_count": null,
      "metadata": {
        "id": "IAUeAy33tnjY"
      },
      "outputs": [],
      "source": [
        "for text in data:\n",
        "    for word in unigrams:\n",
        "        positiveValues[word]+=1"
      ]
    },
    {
      "cell_type": "code",
      "execution_count": null,
      "metadata": {
        "id": "C180o5xytnjZ"
      },
      "outputs": [],
      "source": [
        "df_positive = sorted(positiveValues.items(),key=lambda x:x[1],reverse=True)"
      ]
    },
    {
      "cell_type": "code",
      "execution_count": null,
      "metadata": {
        "id": "qEkI6jVTtnjZ"
      },
      "outputs": [],
      "source": [
        "df_positive = pd.DataFrame(df_positive)"
      ]
    },
    {
      "cell_type": "code",
      "execution_count": null,
      "metadata": {
        "colab": {
          "base_uri": "https://localhost:8080/",
          "height": 363
        },
        "id": "-_EV31k2tnjZ",
        "outputId": "a68717ed-8b04-43ca-cf34-db808e0ab9ae"
      },
      "outputs": [
        {
          "data": {
            "text/html": [
              "<div>\n",
              "<style scoped>\n",
              "    .dataframe tbody tr th:only-of-type {\n",
              "        vertical-align: middle;\n",
              "    }\n",
              "\n",
              "    .dataframe tbody tr th {\n",
              "        vertical-align: top;\n",
              "    }\n",
              "\n",
              "    .dataframe thead th {\n",
              "        text-align: right;\n",
              "    }\n",
              "</style>\n",
              "<table border=\"1\" class=\"dataframe\">\n",
              "  <thead>\n",
              "    <tr style=\"text-align: right;\">\n",
              "      <th></th>\n",
              "      <th>0</th>\n",
              "      <th>1</th>\n",
              "    </tr>\n",
              "  </thead>\n",
              "  <tbody>\n",
              "    <tr>\n",
              "      <th>0</th>\n",
              "      <td>के</td>\n",
              "      <td>105480</td>\n",
              "    </tr>\n",
              "    <tr>\n",
              "      <th>1</th>\n",
              "      <td>में</td>\n",
              "      <td>61001</td>\n",
              "    </tr>\n",
              "    <tr>\n",
              "      <th>2</th>\n",
              "      <td>है</td>\n",
              "      <td>54172</td>\n",
              "    </tr>\n",
              "    <tr>\n",
              "      <th>3</th>\n",
              "      <td>और</td>\n",
              "      <td>50067</td>\n",
              "    </tr>\n",
              "    <tr>\n",
              "      <th>4</th>\n",
              "      <td>की</td>\n",
              "      <td>49633</td>\n",
              "    </tr>\n",
              "    <tr>\n",
              "      <th>5</th>\n",
              "      <td>को</td>\n",
              "      <td>33475</td>\n",
              "    </tr>\n",
              "    <tr>\n",
              "      <th>6</th>\n",
              "      <td>से</td>\n",
              "      <td>33338</td>\n",
              "    </tr>\n",
              "    <tr>\n",
              "      <th>7</th>\n",
              "      <td>का</td>\n",
              "      <td>29104</td>\n",
              "    </tr>\n",
              "    <tr>\n",
              "      <th>8</th>\n",
              "      <td>लिए</td>\n",
              "      <td>21487</td>\n",
              "    </tr>\n",
              "    <tr>\n",
              "      <th>9</th>\n",
              "      <td>हैं</td>\n",
              "      <td>19799</td>\n",
              "    </tr>\n",
              "  </tbody>\n",
              "</table>\n",
              "</div>"
            ],
            "text/plain": [
              "     0       1\n",
              "0   के  105480\n",
              "1  में   61001\n",
              "2   है   54172\n",
              "3   और   50067\n",
              "4   की   49633\n",
              "5   को   33475\n",
              "6   से   33338\n",
              "7   का   29104\n",
              "8  लिए   21487\n",
              "9  हैं   19799"
            ]
          },
          "execution_count": 25,
          "metadata": {},
          "output_type": "execute_result"
        }
      ],
      "source": [
        "df_positive.head(10)"
      ]
    },
    {
      "cell_type": "code",
      "execution_count": null,
      "metadata": {
        "colab": {
          "base_uri": "https://localhost:8080/",
          "height": 295
        },
        "id": "V0sIS6SOtnjZ",
        "outputId": "3eb1122c-281d-433b-81ab-f5ba6d9d188a"
      },
      "outputs": [
        {
          "data": {
            "image/png": "[encoded data removed]",
            "text/plain": [
              "<Figure size 1600x400 with 1 Axes>"
            ]
          },
          "metadata": {},
          "output_type": "display_data"
        }
      ],
      "source": [
        "plt.figure(1,figsize=(16,4))\n",
        "plt.bar(df_positive[0][:10],df_positive[1][:10], color ='green',\n",
        "        width = 0.4)\n",
        "plt.xlabel(\"Words in dataframe\")\n",
        "plt.ylabel(\"Count\")\n",
        "plt.title(\"Top words in dataframe-UNIGRAM ANALYSIS\")\n",
        "plt.show()"
      ]
    },
    {
      "cell_type": "code",
      "execution_count": null,
      "metadata": {
        "colab": {
          "base_uri": "https://localhost:8080/"
        },
        "id": "lJopWkzYtnjZ",
        "outputId": "17b1db43-ec8b-421e-bd9d-0c405474c8ae"
      },
      "outputs": [
        {
          "name": "stdout",
          "output_type": "stream",
          "text": [
            "1350874 578946\n"
          ]
        }
      ],
      "source": [
        "train_size = int(len(unigrams_df) * 0.7)\n",
        "test_size = int(len(unigrams_df) * 0.3) \n",
        "train = unigrams_df[test_size:len(unigrams_df)]\n",
        "test = unigrams_df[train_size:len(unigrams_df)]\n",
        "print(len(train), len(test))"
      ]
    },
    {
      "cell_type": "code",
      "execution_count": null,
      "metadata": {
        "id": "ndZ6LpTsjouj"
      },
      "outputs": [],
      "source": [
        "training_set = train.iloc[:].values"
      ]
    },
    {
      "cell_type": "code",
      "execution_count": null,
      "metadata": {
        "colab": {
          "base_uri": "https://localhost:8080/"
        },
        "id": "1oxxeH_5jv78",
        "outputId": "3eede7b9-4bf7-4b30-bf54-2a135357c64b"
      },
      "outputs": [
        {
          "data": {
            "text/plain": [
              "array([['प्रमुख'],\n",
              "       ['है'],\n",
              "       ['और'],\n",
              "       ...,\n",
              "       ['आश्वासन'],\n",
              "       ['देता'],\n",
              "       ['हूं']], dtype=object)"
            ]
          },
          "execution_count": 29,
          "metadata": {},
          "output_type": "execute_result"
        }
      ],
      "source": [
        "training_set"
      ]
    },
    {
      "cell_type": "code",
      "execution_count": null,
      "metadata": {
        "id": "szVsPQpztnjZ"
      },
      "outputs": [],
      "source": [
        "training_set = train.iloc[:].values\n",
        "X_train = []\n",
        "y_train = []\n",
        "for i in range(5000, training_set.shape[0]):\n",
        "    X_train.append(training_set[i-5000:i,0])\n",
        "    y_train.append(training_set[i,0])\n",
        "X_train, y_train = np.array(X_train), np.array(y_train)"
      ]
    },
    {
      "cell_type": "code",
      "execution_count": null,
      "metadata": {
        "colab": {
          "base_uri": "https://localhost:8080/"
        },
        "id": "wPvgD9aVk64n",
        "outputId": "ea4125a5-04aa-4d6c-c998-fc1936844205"
      },
      "outputs": [
        {
          "data": {
            "text/plain": [
              "array([['प्रमुख', 'है', 'और', ..., 'में', 'कार्यरत', 'है'],\n",
              "       ['है', 'और', 'एएस', ..., 'कार्यरत', 'है', 'और'],\n",
              "       ['और', 'एएस', 'एवं', ..., 'है', 'और', 'पर्यटकों'],\n",
              "       ...,\n",
              "       ['यंत्र', 'को', 'बाएँ', ..., 'हरसंभव', 'सहयोग', 'का'],\n",
              "       ['को', 'बाएँ', 'हाथ', ..., 'सहयोग', 'का', 'आश्वासन'],\n",
              "       ['बाएँ', 'हाथ', 'के', ..., 'का', 'आश्वासन', 'देता']], dtype=object)"
            ]
          },
          "execution_count": 31,
          "metadata": {},
          "output_type": "execute_result"
        }
      ],
      "source": [
        "X_train"
      ]
    },
    {
      "cell_type": "code",
      "execution_count": null,
      "metadata": {
        "colab": {
          "base_uri": "https://localhost:8080/"
        },
        "id": "EImZuzawlD7P",
        "outputId": "7314e7bc-3d05-4938-8390-b31cd13d3c60"
      },
      "outputs": [
        {
          "data": {
            "text/plain": [
              "array(['और', 'पर्यटकों', 'को', ..., 'आश्वासन', 'देता', 'हूं'],\n",
              "      dtype='<U44')"
            ]
          },
          "execution_count": 32,
          "metadata": {},
          "output_type": "execute_result"
        }
      ],
      "source": [
        "y_train"
      ]
    },
    {
      "cell_type": "code",
      "execution_count": null,
      "metadata": {
        "colab": {
          "base_uri": "https://localhost:8080/"
        },
        "id": "ozG8OagolMrn",
        "outputId": "f0f38eef-9afb-4a9a-887e-7bc838ba3702"
      },
      "outputs": [
        {
          "data": {
            "text/plain": [
              "(1345874, 5000)"
            ]
          },
          "execution_count": 33,
          "metadata": {},
          "output_type": "execute_result"
        }
      ],
      "source": [
        "X_train.shape"
      ]
    },
    {
      "cell_type": "code",
      "execution_count": null,
      "metadata": {
        "colab": {
          "base_uri": "https://localhost:8080/"
        },
        "id": "VG0HbACflQr_",
        "outputId": "3e632b2b-dbfd-4e16-aaf2-581ca720f6a3"
      },
      "outputs": [
        {
          "data": {
            "text/plain": [
              "(1345874,)"
            ]
          },
          "execution_count": 34,
          "metadata": {},
          "output_type": "execute_result"
        }
      ],
      "source": [
        "y_train.shape"
      ]
    },
    {
      "cell_type": "code",
      "execution_count": null,
      "metadata": {
        "colab": {
          "base_uri": "https://localhost:8080/"
        },
        "id": "I5B74g0NtnjZ",
        "outputId": "6e666144-f96a-46e5-ceb5-53adbcad9df6"
      },
      "outputs": [
        {
          "name": "stdout",
          "output_type": "stream",
          "text": [
            "(1345874, 5000)\n",
            "(1345874,)\n"
          ]
        }
      ],
      "source": [
        "print(X_train.shape)\n",
        "print(y_train.shape)"
      ]
    },
    {
      "cell_type": "code",
      "execution_count": null,
      "metadata": {
        "id": "KDwCwUpntnjZ"
      },
      "outputs": [],
      "source": [
        "testing_set = test.iloc[:].values\n",
        "X_test = []\n",
        "y_test = []\n",
        "for i in range(5000, testing_set.shape[0]):\n",
        "    X_test.append(testing_set[i-5000:i,0])\n",
        "    y_test.append(testing_set[i,0])\n",
        "X_test, y_test = np.array(X_test), np.array(y_test)"
      ]
    },
    {
      "cell_type": "code",
      "execution_count": null,
      "metadata": {
        "colab": {
          "base_uri": "https://localhost:8080/"
        },
        "id": "L0czW45dtnja",
        "outputId": "4e3bdd31-84cd-4417-aa03-e6df25d0275b"
      },
      "outputs": [
        {
          "name": "stdout",
          "output_type": "stream",
          "text": [
            "(573946, 5000)\n",
            "(573946,)\n"
          ]
        }
      ],
      "source": [
        "print(X_test.shape)\n",
        "print(y_test.shape)"
      ]
    },
    {
      "cell_type": "code",
      "execution_count": null,
      "metadata": {
        "id": "PQ-bEdS2tnja",
        "scrolled": true
      },
      "outputs": [],
      "source": [
        "tk = Tokenizer(lower=False)\n",
        "tk.fit_on_texts(y_train)\n",
        "from keras.utils import pad_sequences\n",
        "\n",
        "x_train_tok = tk.texts_to_sequences(X_train[0])\n",
        "x_test_tok = tk.texts_to_sequences(X_test[0])\n",
        "y_train_tok = tk.texts_to_sequences(y_train[:5000])\n",
        "y_test_tok = tk.texts_to_sequences(y_test[:5000])\n",
        "\n",
        "max_len = 100\n",
        "x_train_pad = pad_sequences(x_train_tok, maxlen=max_len)\n",
        "x_test_pad = pad_sequences(x_test_tok, maxlen=max_len)\n",
        "y_train_pad = pad_sequences(y_train_tok, maxlen=max_len)\n",
        "y_test_pad = pad_sequences(y_test_tok, maxlen=max_len)"
      ]
    },
    {
      "cell_type": "code",
      "execution_count": null,
      "metadata": {
        "colab": {
          "base_uri": "https://localhost:8080/"
        },
        "id": "dLMFhxtEsSMs",
        "outputId": "11e0ed0d-59a0-4460-e463-32cdf44dd939"
      },
      "outputs": [
        {
          "data": {
            "text/plain": [
              "(5000, 10)"
            ]
          },
          "execution_count": 55,
          "metadata": {},
          "output_type": "execute_result"
        }
      ],
      "source": [
        "x_train_pad.shape"
      ]
    },
    {
      "cell_type": "code",
      "execution_count": null,
      "metadata": {
        "colab": {
          "base_uri": "https://localhost:8080/"
        },
        "id": "Q-DXWs2dsa39",
        "outputId": "799dd58e-b1c0-4dde-ccf1-ed4343150d6b"
      },
      "outputs": [
        {
          "data": {
            "text/plain": [
              "(5000, 100)"
            ]
          },
          "execution_count": 68,
          "metadata": {},
          "output_type": "execute_result"
        }
      ],
      "source": [
        "y_train_pad.shape"
      ]
    }
  ],
  "metadata": {
    "colab": {
      "collapsed_sections": [],
      "provenance": []
    },
    "kernelspec": {
      "display_name": "Python 3 (ipykernel)",
      "language": "python",
      "name": "python3"
    },
    "language_info": {
      "codemirror_mode": {
        "name": "ipython",
        "version": 3
      },
      "file_extension": ".py",
      "mimetype": "text/x-python",
      "name": "python",
      "nbconvert_exporter": "python",
      "pygments_lexer": "ipython3",
      "version": "3.10.6"
    }
  },
  "nbformat": 4,
  "nbformat_minor": 0
}