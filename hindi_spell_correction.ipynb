{
  "metadata": {
    "kernelspec": {
      "language": "python",
      "display_name": "Python 3",
      "name": "python3"
    },
    "language_info": {
      "name": "python",
      "version": "3.7.12",
      "mimetype": "text/x-python",
      "codemirror_mode": {
        "name": "ipython",
        "version": 3
      },
      "pygments_lexer": "ipython3",
      "nbconvert_exporter": "python",
      "file_extension": ".py"
    },
    "colab": {
      "provenance": []
    }
  },
  "nbformat_minor": 0,
  "nbformat": 4,
  "cells": [
    {
      "cell_type": "code",
      "source": [
        "import re\n",
        "import string\n",
        "import sys\n",
        "import nltk\n",
        "import tensorflow\n",
        "import matplotlib.pyplot as plt\n",
        "from tensorflow.keras.models import load_model\n",
        "from tensorflow.keras.preprocessing.sequence import pad_sequences\n",
        "from tensorflow.keras.layers import Embedding, LSTM, Dense, Dropout, BatchNormalization,Bidirectional, concatenate, Conv1D, MaxPooling1D, Flatten\n",
        "from tensorflow.keras.preprocessing.text import Tokenizer\n",
        "from tensorflow.keras.models import Sequential\n",
        "from tensorflow.keras.optimizers import Adam\n",
        "from tensorflow.keras.losses import SparseCategoricalCrossentropy\n",
        "from tensorflow.keras import Input, Model\n",
        "from tensorflow.keras.callbacks import *\n",
        "from tensorflow.python.client import device_lib\n",
        "import numpy as np\n",
        "import datetime\n",
        "nltk.download('punkt')\n",
        "print(tensorflow.__version__)\n"
      ],
      "metadata": {
        "id": "NVlSdpOcYAqC",
        "outputId": "a58c1ee6-9ef5-4976-e75c-185598b72b9b",
        "execution": {
          "iopub.status.busy": "2022-12-06T18:32:13.669215Z",
          "iopub.execute_input": "2022-12-06T18:32:13.669662Z",
          "iopub.status.idle": "2022-12-06T18:32:13.985379Z",
          "shell.execute_reply.started": "2022-12-06T18:32:13.669624Z",
          "shell.execute_reply": "2022-12-06T18:32:13.984356Z"
        },
        "trusted": true
      },
      "execution_count": null,
      "outputs": [
        {
          "name": "stdout",
          "text": "2.6.4\n",
          "output_type": "stream"
        },
        {
          "name": "stderr",
          "text": "[nltk_data] Downloading package punkt to /usr/share/nltk_data...\n[nltk_data]   Package punkt is already up-to-date!\n",
          "output_type": "stream"
        }
      ]
    },
    {
      "cell_type": "markdown",
      "source": [
        "#Preparing the Dataset"
      ],
      "metadata": {
        "id": "FhkGdU_MzLyk"
      }
    },
    {
      "cell_type": "code",
      "source": [
        "source = '../input/hindi-data/hindi_text.hi'\n",
        "output = './text'+\".clean\"\n",
        "\n",
        "with open(source) as f:\n",
        "    text = f.read()"
      ],
      "metadata": {
        "id": "4cuVF03L5_sv",
        "execution": {
          "iopub.status.busy": "2022-12-06T18:32:22.821154Z",
          "iopub.execute_input": "2022-12-06T18:32:22.821611Z",
          "iopub.status.idle": "2022-12-06T18:32:22.870210Z",
          "shell.execute_reply.started": "2022-12-06T18:32:22.821575Z",
          "shell.execute_reply": "2022-12-06T18:32:22.869022Z"
        },
        "trusted": true
      },
      "execution_count": null,
      "outputs": []
    },
    {
      "cell_type": "code",
      "source": [
        "# Remove English Characters\n",
        "def remove_latin(text):\n",
        "    english_characters = re.compile(r'[a-zA-Z]')\n",
        "    text = re.sub(english_characters, '', text)\n",
        "\n",
        "    return text"
      ],
      "metadata": {
        "id": "2oDXDaeU7ETz",
        "execution": {
          "iopub.status.busy": "2022-12-06T18:32:25.698112Z",
          "iopub.execute_input": "2022-12-06T18:32:25.698565Z",
          "iopub.status.idle": "2022-12-06T18:32:25.704772Z",
          "shell.execute_reply.started": "2022-12-06T18:32:25.698513Z",
          "shell.execute_reply": "2022-12-06T18:32:25.703643Z"
        },
        "trusted": true
      },
      "execution_count": null,
      "outputs": []
    },
    {
      "cell_type": "code",
      "source": [
        "def remove_punctuation(text):\n",
        "    hindi_punctuations =  '''`÷×؛<>_()*&^%][ـ،:\"؟.,'{}~¦+|!”…“–ـ/$£•●'''\n",
        "    english_punctuations = string.punctuation\n",
        "    numbers = \"1234567890०१२३४५६७८९।\"\n",
        "    bad_characters = \"�¿áóóó□\"\n",
        "    punctuations_list = hindi_punctuations + english_punctuations + numbers +  bad_characters\n",
        "\n",
        "    replace_slash = str.maketrans('/', ' ', '')\n",
        "    text = text.translate(replace_slash)\n",
        "    remove_punc = str.maketrans('', '', punctuations_list)\n",
        "    text = text.translate(remove_punc)\n",
        "\n",
        "    return text\n",
        "\n",
        "text = re.split(r'\\. |\\.\\n|\\!\\n|\\؟\\n|\\n', text)\n",
        "text = list(set(text))"
      ],
      "metadata": {
        "id": "AWVykLslZYDq",
        "execution": {
          "iopub.status.busy": "2022-12-06T18:32:28.305224Z",
          "iopub.execute_input": "2022-12-06T18:32:28.305682Z",
          "iopub.status.idle": "2022-12-06T18:32:28.377598Z",
          "shell.execute_reply.started": "2022-12-06T18:32:28.305646Z",
          "shell.execute_reply": "2022-12-06T18:32:28.376355Z"
        },
        "trusted": true
      },
      "execution_count": null,
      "outputs": []
    },
    {
      "cell_type": "code",
      "source": [
        "with open(output, \"w+\") as clean:\n",
        "    for segment in text:\n",
        "        segment = segment.strip()\n",
        "        segment = remove_punctuation(segment)\n",
        "        segment = remove_latin(segment)\n",
        "        segment = segment.strip()\n",
        "        segment = \" \".join(segment.split())                   \n",
        "        segment = \" \".join(segment.split()[:15])              \n",
        "\n",
        "        if segment != \"\" and len(segment.split())>3:          \n",
        "            segment = \"<s> \" + segment    \n",
        "                                # adding a start token\n",
        "            if ord(u'\\u0900') <= ord(segment[4]) <= ord(u'\\u097F'):\n",
        "                clean.write(segment + \"\\n\")\n",
        "\n",
        "print(\"Done\")"
      ],
      "metadata": {
        "id": "CN5jzFpm7MnX",
        "outputId": "85397bba-e46d-46c3-ce2f-7d2e89b32459",
        "execution": {
          "iopub.status.busy": "2022-12-06T18:32:31.931549Z",
          "iopub.execute_input": "2022-12-06T18:32:31.932336Z",
          "iopub.status.idle": "2022-12-06T18:32:33.308093Z",
          "shell.execute_reply.started": "2022-12-06T18:32:31.932290Z",
          "shell.execute_reply": "2022-12-06T18:32:33.306401Z"
        },
        "trusted": true
      },
      "execution_count": null,
      "outputs": [
        {
          "name": "stdout",
          "text": "Done\n",
          "output_type": "stream"
        }
      ]
    },
    {
      "cell_type": "code",
      "source": [
        "# Pre-process data\n",
        "data_file = \"./text.clean\"\n",
        "data = open(data_file).read()\n",
        "\n",
        "corpus = data.lower().split(\"\\n\")\n",
        "print(corpus[0])\n",
        "\n",
        "\n",
        "vocab_size = 1000\n",
        "out_of_vocab = \"<unk>\"\n",
        "tokenizer = Tokenizer(num_words=vocab_size, oov_token=out_of_vocab)\n",
        "tokenizer.fit_on_texts(corpus)"
      ],
      "metadata": {
        "id": "FrvclEl27kpW",
        "outputId": "9a6befea-a5c6-4efe-b8a0-eb5ee6eaeb50",
        "execution": {
          "iopub.status.busy": "2022-12-06T18:32:35.216680Z",
          "iopub.execute_input": "2022-12-06T18:32:35.217083Z",
          "iopub.status.idle": "2022-12-06T18:32:36.323371Z",
          "shell.execute_reply.started": "2022-12-06T18:32:35.217047Z",
          "shell.execute_reply": "2022-12-06T18:32:36.321978Z"
        },
        "trusted": true
      },
      "execution_count": null,
      "outputs": [
        {
          "name": "stdout",
          "text": "<s> अब तक ये अस्थियां कराची के शमशान घाट में सुरक्षित रखी हुई थीं इनकी देखभाल\n",
          "output_type": "stream"
        }
      ]
    },
    {
      "cell_type": "code",
      "source": [
        "# Create input sequences using list of tokens\n",
        "input_sequences = []            # words before the current word/label\n",
        "input_sequences_reversed = []   # words after the current word/label\n",
        "for line in corpus:\n",
        "    token_list = tokenizer.texts_to_sequences([line])[0]\n",
        "    for i in range(1, len(token_list)):\n",
        "        n_gram_sequence = token_list[:i+1]\n",
        "        input_sequences.append(n_gram_sequence)\n",
        "        n_gram_sequence_rev = token_list[i:]\n",
        "        n_gram_sequence_rev.reverse()\n",
        "        input_sequences_reversed.append(n_gram_sequence_rev)"
      ],
      "metadata": {
        "id": "4xDtqr0A7nnh",
        "execution": {
          "iopub.status.busy": "2022-12-06T18:32:39.882795Z",
          "iopub.execute_input": "2022-12-06T18:32:39.883218Z",
          "iopub.status.idle": "2022-12-06T18:32:42.968972Z",
          "shell.execute_reply.started": "2022-12-06T18:32:39.883184Z",
          "shell.execute_reply": "2022-12-06T18:32:42.967902Z"
        },
        "trusted": true
      },
      "execution_count": null,
      "outputs": []
    },
    {
      "cell_type": "code",
      "source": [
        "# Pad sequences\n",
        "max_sequence_len = 15\n",
        "input_sequences = np.array(pad_sequences(input_sequences, maxlen=max_sequence_len, padding='pre'))\n",
        "input_sequences_reversed = np.array(pad_sequences(input_sequences_reversed, maxlen=max_sequence_len, padding='pre'))\n",
        "print(input_sequences)"
      ],
      "metadata": {
        "id": "wkq-L-2r8AyI",
        "outputId": "373dce82-9f4b-4ecc-b426-9887a9c9efa4",
        "execution": {
          "iopub.status.busy": "2022-12-06T18:32:48.329035Z",
          "iopub.execute_input": "2022-12-06T18:32:48.329496Z",
          "iopub.status.idle": "2022-12-06T18:32:50.764508Z",
          "shell.execute_reply.started": "2022-12-06T18:32:48.329456Z",
          "shell.execute_reply": "2022-12-06T18:32:50.763331Z"
        },
        "trusted": true
      },
      "execution_count": null,
      "outputs": [
        {
          "name": "stdout",
          "text": "[[  0   0   0 ...   0   2  47]\n [  0   0   0 ...   2  47  39]\n [  0   0   0 ...  47  39  69]\n ...\n [  0   2   1 ...  65  20 313]\n [  2   1   4 ...  20 313   1]\n [  1   4 298 ... 313   1   5]]\n",
          "output_type": "stream"
        }
      ]
    },
    {
      "cell_type": "code",
      "source": [
        "# Create predictors (words before and after) and label (current word)\n",
        "predictors, label = input_sequences[:,:-1], input_sequences[:,-1]\n",
        "predictors_rev, label_rev = input_sequences_reversed[:,:-1], input_sequences_reversed[:,-1]\n",
        "\n",
        "# Test - label must be the same as label_rev, i.e. the current word\n",
        "print(predictors[1], label[1])\n",
        "print(predictors_rev[1], label_rev[1])"
      ],
      "metadata": {
        "id": "D5DcyKj_8Et5",
        "outputId": "3954945a-8a67-497a-8ab4-33b6dd283ab3",
        "execution": {
          "iopub.status.busy": "2022-12-06T18:32:55.135904Z",
          "iopub.execute_input": "2022-12-06T18:32:55.136306Z",
          "iopub.status.idle": "2022-12-06T18:32:55.143258Z",
          "shell.execute_reply.started": "2022-12-06T18:32:55.136276Z",
          "shell.execute_reply": "2022-12-06T18:32:55.141959Z"
        },
        "trusted": true
      },
      "execution_count": null,
      "outputs": [
        {
          "name": "stdout",
          "text": "[ 0  0  0  0  0  0  0  0  0  0  0  0  2 47] 39\n[  0   1 529 212  71   1   1   4   1   1   3   1   1  69] 39\n",
          "output_type": "stream"
        }
      ]
    },
    {
      "cell_type": "markdown",
      "source": [
        "#Model Building and Training"
      ],
      "metadata": {
        "id": "cBEoBX5xzr1Z"
      }
    },
    {
      "cell_type": "code",
      "source": [
        "from sklearn.model_selection import train_test_split\n",
        "pred_train, pred_val = train_test_split(predictors, test_size=0.25)\n",
        "predrev_train, predrev_val = train_test_split(predictors_rev, test_size=0.25)\n",
        "label_train, label_val = train_test_split(label, test_size=0.25)"
      ],
      "metadata": {
        "execution": {
          "iopub.status.busy": "2022-12-06T16:40:24.251776Z",
          "iopub.execute_input": "2022-12-06T16:40:24.252247Z",
          "iopub.status.idle": "2022-12-06T16:40:24.396859Z",
          "shell.execute_reply.started": "2022-12-06T16:40:24.252206Z",
          "shell.execute_reply": "2022-12-06T16:40:24.395583Z"
        },
        "trusted": true,
        "id": "IWj1HYyDFd7O"
      },
      "execution_count": null,
      "outputs": []
    },
    {
      "cell_type": "code",
      "source": [
        "# Build the model - 2 inputs, 1 output\n",
        "\n",
        "# Input\n",
        "left_input = Input(shape=(max_sequence_len-1,), name=\"left_in\")\n",
        "right_input = Input(shape=(max_sequence_len-1,),  name=\"right_in\")\n",
        "\n",
        "# Embedding\n",
        "left_features = Embedding(vocab_size, 256)(left_input)\n",
        "right_features = Embedding(vocab_size, 256)(right_input)\n",
        "\n",
        "left_features = Conv1D(100, 10, strides=1, activation=\"relu\", )(left_features)\n",
        "left_features = MaxPooling1D(pool_size=5, strides=5)(left_features)\n",
        "\n",
        "right_features = Conv1D(100, 10, strides=1, activation=\"relu\", )(right_features)\n",
        "right_features = MaxPooling1D(pool_size=5, strides=5)(right_features)\n",
        "\n",
        "left_features = Dropout(0.2)(left_features)\n",
        "right_features = Dropout(0.2)(right_features)\n",
        "\n",
        "# Bidirectional LSTM\n",
        "left_features = Bidirectional(LSTM(512, return_sequences = True))(left_features)\n",
        "right_features = Bidirectional(LSTM(512, return_sequences = True))(right_features)\n",
        "\n",
        "# LSTM\n",
        "left_features = LSTM(128)(left_features)\n",
        "right_features = LSTM(128)(right_features)\n",
        "\n",
        "# Merge all available features into a single large vector via concatenation\n",
        "concat = concatenate([left_features, right_features], name='concatenate')\n",
        "\n",
        "concat = Dropout(0.3)(concat)\n",
        "\n",
        "concat = BatchNormalization()(concat)\n",
        "\n",
        "# Dense - output\n",
        "pred = Dense(vocab_size, activation='softmax', name=\"pred\")(concat)\n",
        "\n",
        "\n",
        "# Instantiate an end-to-end model predicting the next word based on both the left and right inputs\n",
        "model = Model(\n",
        "    inputs = [left_input, right_input],\n",
        "    outputs = pred\n",
        ")\n",
        "\n",
        "\n",
        "model.compile(\n",
        "    optimizer = Adam(learning_rate=0.0001),\n",
        "    loss = SparseCategoricalCrossentropy(),\n",
        "    metrics = ['accuracy']\n",
        ")\n",
        "\n",
        "print(model.summary())"
      ],
      "metadata": {
        "id": "I311bnhmgi7x",
        "outputId": "a7695992-7651-4383-d0ae-7fe70b9c96be",
        "execution": {
          "iopub.status.busy": "2022-12-06T18:32:59.580107Z",
          "iopub.execute_input": "2022-12-06T18:32:59.580519Z",
          "iopub.status.idle": "2022-12-06T18:33:01.592747Z",
          "shell.execute_reply.started": "2022-12-06T18:32:59.580486Z",
          "shell.execute_reply": "2022-12-06T18:33:01.591471Z"
        },
        "trusted": true
      },
      "execution_count": null,
      "outputs": [
        {
          "name": "stdout",
          "text": "Model: \"model_9\"\n__________________________________________________________________________________________________\nLayer (type)                    Output Shape         Param #     Connected to                     \n==================================================================================================\nleft_in (InputLayer)            [(None, 14)]         0                                            \n__________________________________________________________________________________________________\nright_in (InputLayer)           [(None, 14)]         0                                            \n__________________________________________________________________________________________________\nembedding_18 (Embedding)        (None, 14, 256)      256000      left_in[0][0]                    \n__________________________________________________________________________________________________\nembedding_19 (Embedding)        (None, 14, 256)      256000      right_in[0][0]                   \n__________________________________________________________________________________________________\nconv1d_18 (Conv1D)              (None, 5, 100)       256100      embedding_18[0][0]               \n__________________________________________________________________________________________________\nconv1d_19 (Conv1D)              (None, 5, 100)       256100      embedding_19[0][0]               \n__________________________________________________________________________________________________\nmax_pooling1d_18 (MaxPooling1D) (None, 1, 100)       0           conv1d_18[0][0]                  \n__________________________________________________________________________________________________\nmax_pooling1d_19 (MaxPooling1D) (None, 1, 100)       0           conv1d_19[0][0]                  \n__________________________________________________________________________________________________\ndropout_25 (Dropout)            (None, 1, 100)       0           max_pooling1d_18[0][0]           \n__________________________________________________________________________________________________\ndropout_26 (Dropout)            (None, 1, 100)       0           max_pooling1d_19[0][0]           \n__________________________________________________________________________________________________\nbidirectional_18 (Bidirectional (None, 1, 1024)      2510848     dropout_25[0][0]                 \n__________________________________________________________________________________________________\nbidirectional_19 (Bidirectional (None, 1, 1024)      2510848     dropout_26[0][0]                 \n__________________________________________________________________________________________________\nlstm_38 (LSTM)                  (None, 128)          590336      bidirectional_18[0][0]           \n__________________________________________________________________________________________________\nlstm_39 (LSTM)                  (None, 128)          590336      bidirectional_19[0][0]           \n__________________________________________________________________________________________________\nconcatenate (Concatenate)       (None, 256)          0           lstm_38[0][0]                    \n                                                                 lstm_39[0][0]                    \n__________________________________________________________________________________________________\ndropout_27 (Dropout)            (None, 256)          0           concatenate[0][0]                \n__________________________________________________________________________________________________\nbatch_normalization_9 (BatchNor (None, 256)          1024        dropout_27[0][0]                 \n__________________________________________________________________________________________________\npred (Dense)                    (None, 1000)         257000      batch_normalization_9[0][0]      \n==================================================================================================\nTotal params: 7,484,592\nTrainable params: 7,484,080\nNon-trainable params: 512\n__________________________________________________________________________________________________\nNone\n",
          "output_type": "stream"
        }
      ]
    },
    {
      "cell_type": "code",
      "source": [
        "tensorflow.keras.utils.plot_model(model) "
      ],
      "metadata": {
        "execution": {
          "iopub.status.busy": "2022-12-06T18:33:14.386057Z",
          "iopub.execute_input": "2022-12-06T18:33:14.386477Z",
          "iopub.status.idle": "2022-12-06T18:33:14.677326Z",
          "shell.execute_reply.started": "2022-12-06T18:33:14.386445Z",
          "shell.execute_reply": "2022-12-06T18:33:14.676267Z"
        },
        "trusted": true,
        "id": "Ich6bYm7Fd7P",
        "outputId": "dcbfd302-23f7-45a1-b343-8a349427c242"
      },
      "execution_count": null,
      "outputs": [
        {
          "execution_count": 51,
          "output_type": "execute_result",
          "data": {
            "image/png": "[encoded data removed]",
            "text/plain": "<IPython.core.display.Image object>"
          },
          "metadata": {}
        }
      ]
    },
    {
      "cell_type": "code",
      "source": [
        "# Define callbacks\n",
        "my_callbacks = [\n",
        "    EarlyStopping(monitor='accuracy', patience=3)\n",
        "]\n",
        "\n",
        "# Train the model\n",
        "history = model.fit(\n",
        "    {\"left_in\": predictors, \"right_in\": predictors_rev},\n",
        "    {'pred': label},\n",
        "    epochs=50,\n",
        "    batch_size=2048,\n",
        "    validation_split=0.25,\n",
        "    #validation_data=([pred_val,predrev_val],label_val),\n",
        "    callbacks=my_callbacks\n",
        ")"
      ],
      "metadata": {
        "id": "zSgKE6JR8XE4",
        "outputId": "f62a89ef-d10e-4fba-e3b0-f09393d3004a",
        "execution": {
          "iopub.status.busy": "2022-12-06T18:33:26.109925Z",
          "iopub.execute_input": "2022-12-06T18:33:26.110335Z",
          "iopub.status.idle": "2022-12-06T21:24:53.354120Z",
          "shell.execute_reply.started": "2022-12-06T18:33:26.110299Z",
          "shell.execute_reply": "2022-12-06T21:24:53.352690Z"
        },
        "trusted": true
      },
      "execution_count": null,
      "outputs": [
        {
          "name": "stdout",
          "text": "Epoch 1/50\n150/150 [==============================] - 226s 1s/step - loss: 6.7869 - accuracy: 0.1152 - val_loss: 6.7297 - val_accuracy: 0.2580\nEpoch 2/50\n150/150 [==============================] - 213s 1s/step - loss: 6.3036 - accuracy: 0.1511 - val_loss: 6.4870 - val_accuracy: 0.1757\nEpoch 3/50\n150/150 [==============================] - 212s 1s/step - loss: 5.7061 - accuracy: 0.2036 - val_loss: 5.8367 - val_accuracy: 0.2258\nEpoch 4/50\n150/150 [==============================] - 212s 1s/step - loss: 5.2030 - accuracy: 0.2502 - val_loss: 5.0883 - val_accuracy: 0.2817\nEpoch 5/50\n150/150 [==============================] - 210s 1s/step - loss: 4.8536 - accuracy: 0.2837 - val_loss: 4.4996 - val_accuracy: 0.3352\nEpoch 6/50\n150/150 [==============================] - 208s 1s/step - loss: 4.5913 - accuracy: 0.3086 - val_loss: 4.2952 - val_accuracy: 0.3440\nEpoch 7/50\n150/150 [==============================] - 207s 1s/step - loss: 4.3962 - accuracy: 0.3249 - val_loss: 4.2025 - val_accuracy: 0.3477\nEpoch 8/50\n150/150 [==============================] - 207s 1s/step - loss: 4.2459 - accuracy: 0.3354 - val_loss: 4.0715 - val_accuracy: 0.3513\nEpoch 9/50\n150/150 [==============================] - 207s 1s/step - loss: 4.1312 - accuracy: 0.3411 - val_loss: 4.0228 - val_accuracy: 0.3537\nEpoch 10/50\n150/150 [==============================] - 207s 1s/step - loss: 4.0404 - accuracy: 0.3454 - val_loss: 3.9299 - val_accuracy: 0.3550\nEpoch 11/50\n150/150 [==============================] - 206s 1s/step - loss: 3.9732 - accuracy: 0.3489 - val_loss: 3.8692 - val_accuracy: 0.3571\nEpoch 12/50\n150/150 [==============================] - 207s 1s/step - loss: 3.9211 - accuracy: 0.3519 - val_loss: 3.8236 - val_accuracy: 0.3584\nEpoch 13/50\n150/150 [==============================] - 207s 1s/step - loss: 3.8839 - accuracy: 0.3535 - val_loss: 3.7967 - val_accuracy: 0.3597\nEpoch 14/50\n150/150 [==============================] - 207s 1s/step - loss: 3.8506 - accuracy: 0.3555 - val_loss: 3.7785 - val_accuracy: 0.3610\nEpoch 15/50\n150/150 [==============================] - 208s 1s/step - loss: 3.8216 - accuracy: 0.3570 - val_loss: 3.7509 - val_accuracy: 0.3617\nEpoch 16/50\n150/150 [==============================] - 208s 1s/step - loss: 3.7977 - accuracy: 0.3578 - val_loss: 3.7382 - val_accuracy: 0.3616\nEpoch 17/50\n150/150 [==============================] - 208s 1s/step - loss: 3.7755 - accuracy: 0.3597 - val_loss: 3.7259 - val_accuracy: 0.3629\nEpoch 18/50\n150/150 [==============================] - 208s 1s/step - loss: 3.7584 - accuracy: 0.3609 - val_loss: 3.7173 - val_accuracy: 0.3626\nEpoch 19/50\n150/150 [==============================] - 208s 1s/step - loss: 3.7382 - accuracy: 0.3620 - val_loss: 3.6993 - val_accuracy: 0.3632\nEpoch 20/50\n150/150 [==============================] - 207s 1s/step - loss: 3.7226 - accuracy: 0.3634 - val_loss: 3.6902 - val_accuracy: 0.3643\nEpoch 21/50\n150/150 [==============================] - 207s 1s/step - loss: 3.7063 - accuracy: 0.3640 - val_loss: 3.6779 - val_accuracy: 0.3642\nEpoch 22/50\n150/150 [==============================] - 208s 1s/step - loss: 3.6874 - accuracy: 0.3659 - val_loss: 3.6768 - val_accuracy: 0.3637\nEpoch 23/50\n150/150 [==============================] - 209s 1s/step - loss: 3.6743 - accuracy: 0.3668 - val_loss: 3.6572 - val_accuracy: 0.3647\nEpoch 24/50\n150/150 [==============================] - 208s 1s/step - loss: 3.6568 - accuracy: 0.3676 - val_loss: 3.6514 - val_accuracy: 0.3654\nEpoch 25/50\n150/150 [==============================] - 202s 1s/step - loss: 3.6450 - accuracy: 0.3688 - val_loss: 3.6389 - val_accuracy: 0.3649\nEpoch 26/50\n150/150 [==============================] - 202s 1s/step - loss: 3.6310 - accuracy: 0.3691 - val_loss: 3.6300 - val_accuracy: 0.3663\nEpoch 27/50\n150/150 [==============================] - 202s 1s/step - loss: 3.6166 - accuracy: 0.3711 - val_loss: 3.6266 - val_accuracy: 0.3648\nEpoch 28/50\n150/150 [==============================] - 203s 1s/step - loss: 3.6023 - accuracy: 0.3725 - val_loss: 3.6149 - val_accuracy: 0.3669\nEpoch 29/50\n150/150 [==============================] - 202s 1s/step - loss: 3.5905 - accuracy: 0.3736 - val_loss: 3.6102 - val_accuracy: 0.3666\nEpoch 30/50\n150/150 [==============================] - 196s 1s/step - loss: 3.5772 - accuracy: 0.3749 - val_loss: 3.6109 - val_accuracy: 0.3667\nEpoch 31/50\n150/150 [==============================] - 197s 1s/step - loss: 3.5656 - accuracy: 0.3759 - val_loss: 3.6044 - val_accuracy: 0.3662\nEpoch 32/50\n150/150 [==============================] - 198s 1s/step - loss: 3.5497 - accuracy: 0.3774 - val_loss: 3.5991 - val_accuracy: 0.3672\nEpoch 33/50\n150/150 [==============================] - 197s 1s/step - loss: 3.5390 - accuracy: 0.3784 - val_loss: 3.5939 - val_accuracy: 0.3685\nEpoch 34/50\n150/150 [==============================] - 197s 1s/step - loss: 3.5247 - accuracy: 0.3803 - val_loss: 3.5861 - val_accuracy: 0.3687\nEpoch 35/50\n150/150 [==============================] - 198s 1s/step - loss: 3.5135 - accuracy: 0.3816 - val_loss: 3.5849 - val_accuracy: 0.3682\nEpoch 36/50\n150/150 [==============================] - 198s 1s/step - loss: 3.5021 - accuracy: 0.3824 - val_loss: 3.5891 - val_accuracy: 0.3654\nEpoch 37/50\n150/150 [==============================] - 198s 1s/step - loss: 3.4890 - accuracy: 0.3841 - val_loss: 3.5792 - val_accuracy: 0.3684\nEpoch 38/50\n150/150 [==============================] - 199s 1s/step - loss: 3.4781 - accuracy: 0.3858 - val_loss: 3.5738 - val_accuracy: 0.3677\nEpoch 39/50\n150/150 [==============================] - 199s 1s/step - loss: 3.4671 - accuracy: 0.3862 - val_loss: 3.5864 - val_accuracy: 0.3653\nEpoch 40/50\n150/150 [==============================] - 198s 1s/step - loss: 3.4538 - accuracy: 0.3878 - val_loss: 3.5716 - val_accuracy: 0.3672\nEpoch 41/50\n150/150 [==============================] - 198s 1s/step - loss: 3.4453 - accuracy: 0.3886 - val_loss: 3.5730 - val_accuracy: 0.3683\nEpoch 42/50\n150/150 [==============================] - 198s 1s/step - loss: 3.4340 - accuracy: 0.3906 - val_loss: 3.5769 - val_accuracy: 0.3657\nEpoch 43/50\n150/150 [==============================] - 197s 1s/step - loss: 3.4234 - accuracy: 0.3906 - val_loss: 3.5771 - val_accuracy: 0.3692\nEpoch 44/50\n150/150 [==============================] - 204s 1s/step - loss: 3.4119 - accuracy: 0.3933 - val_loss: 3.5664 - val_accuracy: 0.3686\nEpoch 45/50\n150/150 [==============================] - 211s 1s/step - loss: 3.3992 - accuracy: 0.3936 - val_loss: 3.5648 - val_accuracy: 0.3682\nEpoch 46/50\n150/150 [==============================] - 217s 1s/step - loss: 3.3889 - accuracy: 0.3949 - val_loss: 3.5661 - val_accuracy: 0.3663\nEpoch 47/50\n150/150 [==============================] - 217s 1s/step - loss: 3.3781 - accuracy: 0.3957 - val_loss: 3.5644 - val_accuracy: 0.3670\nEpoch 48/50\n150/150 [==============================] - 215s 1s/step - loss: 3.3662 - accuracy: 0.3973 - val_loss: 3.5680 - val_accuracy: 0.3654\nEpoch 49/50\n150/150 [==============================] - 214s 1s/step - loss: 3.3565 - accuracy: 0.3989 - val_loss: 3.5666 - val_accuracy: 0.3669\nEpoch 50/50\n150/150 [==============================] - 215s 1s/step - loss: 3.3472 - accuracy: 0.4002 - val_loss: 3.5845 - val_accuracy: 0.3609\n",
          "output_type": "stream"
        }
      ]
    },
    {
      "cell_type": "code",
      "source": [
        "# summarize history for accuracy\n",
        "plt.plot(history.history['accuracy'], label='accuracy')\n",
        "plt.plot(history.history['val_accuracy'], label = 'val_accuracy')\n",
        "plt.title('model accuracy')\n",
        "plt.ylabel('accuracy')\n",
        "plt.xlabel('epoch')\n",
        "plt.legend(['train', 'test'], loc='upper left')\n",
        "plt.show()\n",
        "# summarize history for loss\n",
        "plt.plot(history.history['loss'], label='Training Error')\n",
        "plt.plot(history.history['val_loss'], label = 'Testing Error')\n",
        "plt.title('model loss')\n",
        "plt.ylabel('loss')\n",
        "plt.xlabel('epoch')\n",
        "plt.legend(['train', 'test'], loc='upper left')\n",
        "plt.show()"
      ],
      "metadata": {
        "execution": {
          "iopub.status.busy": "2022-12-06T21:29:23.365136Z",
          "iopub.execute_input": "2022-12-06T21:29:23.365639Z",
          "iopub.status.idle": "2022-12-06T21:29:23.686192Z",
          "shell.execute_reply.started": "2022-12-06T21:29:23.365581Z",
          "shell.execute_reply": "2022-12-06T21:29:23.685017Z"
        },
        "trusted": true,
        "id": "casFglZWFd7P",
        "outputId": "76d383ea-1d6f-4eeb-b279-ed1ea5ad56a2"
      },
      "execution_count": null,
      "outputs": [
        {
          "output_type": "display_data",
          "data": {
            "text/plain": "<Figure size 432x288 with 1 Axes>",
            "image/png": "[encoded data removed]"
          },
          "metadata": {
            "needs_background": "light"
          }
        },
        {
          "output_type": "display_data",
          "data": {
            "text/plain": "<Figure size 432x288 with 1 Axes>",
            "image/png": "[encoded data removed]"
          },
          "metadata": {
            "needs_background": "light"
          }
        }
      ]
    },
    {
      "cell_type": "code",
      "source": [
        "def generate_ngrams(text):    \n",
        "    tokens = nltk.word_tokenize(text)\n",
        "    tokens = [token for token in tokens if token not in string.punctuation]\n",
        "\n",
        "    all_grams = []\n",
        "\n",
        "    for n in range(1, len(tokens)+1):\n",
        "        grams = [w for w in nltk.ngrams(tokens, n=n)][0]\n",
        "        \n",
        "        grams_rev = tokens[n:]\n",
        "        grams_rev.reverse()\n",
        "        all_grams.append((list(grams), list(grams_rev)))\n",
        "\n",
        "    return all_grams"
      ],
      "metadata": {
        "id": "MKYW5m_r14hS",
        "execution": {
          "iopub.status.busy": "2022-12-06T21:30:26.328711Z",
          "iopub.execute_input": "2022-12-06T21:30:26.329329Z",
          "iopub.status.idle": "2022-12-06T21:30:26.339588Z",
          "shell.execute_reply.started": "2022-12-06T21:30:26.329276Z",
          "shell.execute_reply": "2022-12-06T21:30:26.338323Z"
        },
        "trusted": true
      },
      "execution_count": null,
      "outputs": []
    },
    {
      "cell_type": "code",
      "source": [
        "generate_ngrams(\"सीता खाना माँगता है\")"
      ],
      "metadata": {
        "id": "3q5BNP1n7GME",
        "outputId": "c5a994b3-e9d2-4a93-bc0d-58273fd97543",
        "execution": {
          "iopub.status.busy": "2022-12-06T21:30:28.872401Z",
          "iopub.execute_input": "2022-12-06T21:30:28.872827Z",
          "iopub.status.idle": "2022-12-06T21:30:28.892606Z",
          "shell.execute_reply.started": "2022-12-06T21:30:28.872792Z",
          "shell.execute_reply": "2022-12-06T21:30:28.891706Z"
        },
        "trusted": true
      },
      "execution_count": null,
      "outputs": [
        {
          "execution_count": 58,
          "output_type": "execute_result",
          "data": {
            "text/plain": "[(['सीता'], ['है', 'माँगता', 'खाना']),\n (['सीता', 'खाना'], ['है', 'माँगता']),\n (['सीता', 'खाना', 'माँगता'], ['है']),\n (['सीता', 'खाना', 'माँगता', 'है'], [])]"
          },
          "metadata": {}
        }
      ]
    },
    {
      "cell_type": "code",
      "source": [
        "print(\"Building the Tokenizer...\")\n",
        "data_file = \"./text.clean\"\n",
        "data = open(data_file).read()\n",
        "\n",
        "corpus = data.lower().split(\"\\n\")\n",
        "#print(\"First sentence in the corpus:\", corpus[0])\n",
        "\n",
        "vocab_size = 1000\n",
        "max_sequence_len = 15\n",
        "out_of_vocab = \"<unk>\"\n",
        "tokenizer = Tokenizer(num_words=vocab_size, oov_token=out_of_vocab)\n",
        "tokenizer.fit_on_texts(corpus)"
      ],
      "metadata": {
        "id": "8GooU6H22D7S",
        "outputId": "71529474-e5c9-43e4-e019-f67338c6cc55",
        "execution": {
          "iopub.status.busy": "2022-12-06T21:30:32.112299Z",
          "iopub.execute_input": "2022-12-06T21:30:32.112759Z",
          "iopub.status.idle": "2022-12-06T21:30:33.124076Z",
          "shell.execute_reply.started": "2022-12-06T21:30:32.112722Z",
          "shell.execute_reply": "2022-12-06T21:30:33.122978Z"
        },
        "trusted": true
      },
      "execution_count": null,
      "outputs": [
        {
          "name": "stdout",
          "text": "Building the Tokenizer...\n",
          "output_type": "stream"
        }
      ]
    },
    {
      "cell_type": "code",
      "source": [
        "texts_to_correct = [\"उसेचाय पीनेकी तालाब लगी थ\"]\n",
        "print(\"Given Sentence : \", texts_to_correct)\n",
        "for text_to_correct in texts_to_correct:\n",
        "    \n",
        "    print(\"Currently correcting:\", text_to_correct)\n",
        "        \n",
        "    ngrams = generate_ngrams(text_to_correct)\n",
        "    correct = None\n",
        "    suggestions = []\n",
        "    \n",
        "    for ngram in ngrams:\n",
        "            \n",
        "        if len(ngram[0]) > 2 and correct != 1 and len(suggestions) != 0:\n",
        "            seed_text_ltr = \" \".join(word for word in ngram[0][:-2]) + \" \" + suggestions[0][2]\n",
        "        else:\n",
        "            seed_text_ltr = \" \".join(word for word in ngram[0][:-1])\n",
        "        \n",
        "        current_word = ngram[0][-1]\n",
        "        seed_text_rtl = \" \".join(word for word in ngram[1])\n",
        "        print(seed_text_ltr, \"->\", current_word, \"->\", seed_text_rtl)\n",
        "\n",
        "        token_list = tokenizer.texts_to_sequences([seed_text_ltr])[0]\n",
        "        token_list = pad_sequences([token_list], maxlen=max_sequence_len-1, padding='post')\n",
        "\n",
        "        token_list_rev = tokenizer.texts_to_sequences([seed_text_rtl])[0]\n",
        "        token_list_rev = pad_sequences([token_list_rev], maxlen=max_sequence_len-1, padding='post')\n",
        "        \n",
        "        predicted_best = np.argsort(-model.predict([token_list, token_list_rev],verbose=0), axis=-1)[0]\n",
        "        \n",
        "        suggestions = []\n",
        "        correct = None\n",
        "\n",
        "        for prob in predicted_best:\n",
        "            output_word = tokenizer.sequences_to_texts([[prob]])[0]\n",
        "            ed = nltk.edit_distance(current_word, output_word)\n",
        "\n",
        "            if ed ==0:\n",
        "                correct = 1\n",
        "                break\n",
        "            elif len(current_word)<=3 and ed ==1:\n",
        "                suggestions.append((ed, current_word, output_word))\n",
        "            elif len(current_word)>3 and ed <=2:\n",
        "                suggestions.append((ed, current_word, output_word))\n",
        "            else:\n",
        "                continue\n",
        "                    \n",
        "        if correct != 1 and len(suggestions) > 0:\n",
        "            print(\"Suggestions:\", \" - \".join([suggest[2] for suggest in suggestions]))\n",
        "\n",
        "        if correct == 1 or len(suggestions) == 0:\n",
        "            print(\"CORRECT\")\n",
        "        elif correct != 1 and len(suggestions) > 0:\n",
        "            correct = 0\n",
        "            print(\"WRONG\")\n",
        "\n",
        "        print(\"-------\")"
      ],
      "metadata": {
        "id": "s00nsFUfiau5",
        "outputId": "3dbb3e89-6437-40c2-dfc0-c342e91547c3",
        "execution": {
          "iopub.status.busy": "2022-12-06T21:33:52.815310Z",
          "iopub.execute_input": "2022-12-06T21:33:52.815769Z",
          "iopub.status.idle": "2022-12-06T21:33:53.352775Z",
          "shell.execute_reply.started": "2022-12-06T21:33:52.815724Z",
          "shell.execute_reply": "2022-12-06T21:33:53.351580Z"
        },
        "trusted": true
      },
      "execution_count": null,
      "outputs": [
        {
          "name": "stdout",
          "text": "Given Sentence :  ['उसेचाय पीनेकी तालाब लगी थ']\nCurrently correcting: उसेचाय पीनेकी तालाब लगी थ\n -> उसेचाय -> थ लगी तालाब पीनेकी\nCORRECT\n-------\nउसेचाय -> पीनेकी -> थ लगी तालाब\nCORRECT\n-------\nउसेचाय पीनेकी -> तालाब -> थ लगी\nSuggestions: वाला\nWRONG\n-------\nउसेचाय पीनेकी वाला -> लगी -> थ\nCORRECT\n-------\nउसेचाय पीनेकी तालाब लगी -> थ -> \nSuggestions: थे - न - था - थी - आ - व - s\nWRONG\n-------\n",
          "output_type": "stream"
        }
      ]
    }
  ]
}